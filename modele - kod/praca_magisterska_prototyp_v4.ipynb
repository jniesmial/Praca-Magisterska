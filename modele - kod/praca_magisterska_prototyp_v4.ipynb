{
  "cells": [
    {
      "cell_type": "code",
      "execution_count": null,
      "metadata": {
        "id": "z3nmTwYROPIU"
      },
      "outputs": [],
      "source": [
        "# Warnings\n",
        "import warnings\n",
        "warnings.filterwarnings('ignore')\n",
        "\n",
        "# Podstawowe biblioteki\n",
        "import time\n",
        "import os\n",
        "import numpy as np\n",
        "import pandas as pd\n",
        "import cv2\n",
        "import matplotlib.pyplot as plt\n",
        "import seaborn as sns\n",
        "sns.set_style('whitegrid')\n",
        "\n",
        "# Zbior danych\n",
        "import kagglehub\n",
        "\n",
        "# Wizualizacja\n",
        "import plotly.express as px\n",
        "\n",
        "# Scikit-learn\n",
        "from sklearn.model_selection import train_test_split\n",
        "from sklearn.preprocessing import LabelEncoder\n",
        "from sklearn.metrics import (\n",
        "    confusion_matrix,\n",
        "    classification_report,\n",
        "    accuracy_score,\n",
        "    precision_score,\n",
        "    recall_score,\n",
        "    f1_score,\n",
        "    log_loss\n",
        ")\n",
        "\n",
        "from sklearn.neighbors import KNeighborsClassifier\n",
        "from sklearn.svm import SVC\n",
        "\n",
        "# TensorFlow / Keras\n",
        "import tensorflow as tf\n",
        "from tensorflow import keras\n",
        "from tensorflow.keras.models import Sequential, Model\n",
        "from tensorflow.keras.layers import (\n",
        "    Dense,\n",
        "    Flatten,\n",
        "    Conv2D,\n",
        "    MaxPooling2D,\n",
        "    Dropout,\n",
        "    Activation,\n",
        "    BatchNormalization,\n",
        "    GlobalAveragePooling2D,\n",
        "    Input\n",
        ")\n",
        "from tensorflow.keras.preprocessing.image import ImageDataGenerator\n",
        "from tensorflow.keras.optimizers import Adam, Adamax\n",
        "from tensorflow.keras.callbacks import EarlyStopping\n",
        "from tensorflow.keras.metrics import Precision, Recall\n",
        "from keras.metrics import AUC\n",
        "\n",
        "# Transfer learning\n",
        "from tensorflow.keras.applications import Xception\n"
      ]
    },
    {
      "cell_type": "code",
      "execution_count": null,
      "metadata": {
        "id": "63650ab8"
      },
      "outputs": [],
      "source": [
        "\n",
        "from sklearn.ensemble import RandomForestClassifier\n",
        "from tensorflow.keras.applications import ResNet50\n"
      ]
    },
    {
      "cell_type": "code",
      "execution_count": null,
      "metadata": {
        "colab": {
          "base_uri": "https://localhost:8080/"
        },
        "id": "jlsDt59aRGF5",
        "outputId": "3601f587-d393-4c43-d4cc-e32f0eff25ad"
      },
      "outputs": [
        {
          "output_type": "stream",
          "name": "stdout",
          "text": [
            "Dane znajdują się w folderze: /kaggle/input/plantvillage-dataset/plantvillage dataset/color\n",
            "                                           Filepaths                Labels\n",
            "0  /kaggle/input/plantvillage-dataset/plantvillag...  Tomato___Late_blight\n",
            "1  /kaggle/input/plantvillage-dataset/plantvillag...  Tomato___Late_blight\n",
            "2  /kaggle/input/plantvillage-dataset/plantvillag...  Tomato___Late_blight\n",
            "3  /kaggle/input/plantvillage-dataset/plantvillag...  Tomato___Late_blight\n",
            "4  /kaggle/input/plantvillage-dataset/plantvillag...  Tomato___Late_blight\n"
          ]
        }
      ],
      "source": [
        "# Pobranie datasetu za pomocą kagglehub\n",
        "data = kagglehub.dataset_download(\"abdallahalidev/plantvillage-dataset\")\n",
        "\n",
        "# Ścieżka do danych (zmodyfikowana na katalog z \"color\"w dodatkowym folderze)\n",
        "data = os.path.join(data, \"plantvillage dataset/color\")\n",
        "\n",
        "# Sprawdzenie, czy dane zostały poprawnie załadowane\n",
        "if not os.path.exists(data):\n",
        "    print(f\"Folder danych nie istnieje: {data}\")\n",
        "else:\n",
        "    print(f\"Dane znajdują się w folderze: {data}\")\n",
        "\n",
        "# Funkcja do tworzenia DataFrame z obrazami i etykietami\n",
        "def create_dataframe(data_path):\n",
        "    filepaths = []  # Lista na ścieżki do plików\n",
        "    labels = []  # Lista na etykiety\n",
        "\n",
        "    folds = os.listdir(data_path)  # Lista podfolderów (klas)\n",
        "\n",
        "    for fold in folds:\n",
        "        f_path = os.path.join(data_path, fold)  # Ścieżka do folderu klasy\n",
        "        imgs = os.listdir(f_path)  # Lista obrazów w folderze\n",
        "\n",
        "        for img in imgs:\n",
        "            img_path = os.path.join(f_path, img)  # Ścieżka do obrazu\n",
        "            filepaths.append(img_path)  # Dodanie ścieżki do listy\n",
        "            labels.append(fold)  # Dodanie etykiety (nazwa folderu)\n",
        "\n",
        "    # Tworzenie DataFrame z list\n",
        "    fseries = pd.Series(filepaths, name='Filepaths')\n",
        "    lseries = pd.Series(labels, name='Labels')\n",
        "    return pd.concat([fseries, lseries], axis=1)\n",
        "\n",
        "# Tworzenie DataFrame z danymi\n",
        "df = create_dataframe(data)\n",
        "\n",
        "# Wyświetlenie pierwszych 5 wierszy DataFrame\n",
        "print(df.head())"
      ]
    },
    {
      "cell_type": "code",
      "execution_count": null,
      "metadata": {
        "id": "LLE-dAlHRbGg"
      },
      "outputs": [],
      "source": [
        "# Zmniejszenie zbioru danych do 40%\n",
        "# reduced_df = df.sample(frac=0.4, random_state=42)\n",
        "\n",
        "# Podział danych na zbiory treningowy, walidacyjny i testowy\n",
        "train_df, dummy_df = train_test_split(df, train_size=0.8, shuffle=True, random_state=42)\n",
        "valid_df, test_df = train_test_split(dummy_df, train_size=0.5, shuffle=True, random_state=42)\n"
      ]
    },
    {
      "cell_type": "code",
      "execution_count": null,
      "metadata": {
        "colab": {
          "base_uri": "https://localhost:8080/"
        },
        "id": "LLzeAwIiObtZ",
        "outputId": "342bbb3f-f0cc-493d-aa78-9e4c68c56429"
      },
      "outputs": [
        {
          "output_type": "stream",
          "name": "stdout",
          "text": [
            "Found 43444 validated image filenames belonging to 38 classes.\n",
            "Found 5430 validated image filenames belonging to 38 classes.\n",
            "Found 5431 validated image filenames belonging to 38 classes.\n"
          ]
        }
      ],
      "source": [
        "bs=4 #bath size\n",
        "\n",
        "# Augmentacja danych dla zbioru treningowego\n",
        "train_datagen = ImageDataGenerator(\n",
        "    rescale=1./255,  # Skalowanie pikseli do przedziału [0, 1]\n",
        "    rotation_range=20,  # Losowy obrót obrazów\n",
        "    width_shift_range=0.2,  # Losowe przesunięcie w poziomie\n",
        "    height_shift_range=0.2,  # Losowe przesunięcie w pionie\n",
        "    shear_range=0.2,  # Losowe ścinanie\n",
        "    zoom_range=0.2,  # Losowe powiększenie\n",
        "    horizontal_flip=True,  # Losowe odbicie poziome\n",
        "    fill_mode='nearest'  # Uzupełnianie brakujących pikseli\n",
        ")\n",
        "\n",
        "# Tylko skalowanie dla walidacji i testów\n",
        "valid_datagen = ImageDataGenerator(rescale=1./255)\n",
        "test_datagen = ImageDataGenerator(rescale=1./255)\n",
        "\n",
        "# Generatory danych\n",
        "train_generator = train_datagen.flow_from_dataframe(\n",
        "    dataframe=train_df,\n",
        "    x_col='Filepaths',  # Kolumna ze ścieżkami do obrazów\n",
        "    y_col='Labels',  # Kolumna z etykietami\n",
        "    target_size=(224, 224),  # Rozmiar obrazu\n",
        "    batch_size=bs,\n",
        "    class_mode='categorical',  # Klasyfikacja wieloklasowa\n",
        "    shuffle=True,\n",
        "    seed=42\n",
        ")\n",
        "\n",
        "valid_generator = valid_datagen.flow_from_dataframe(\n",
        "    dataframe=valid_df,\n",
        "    x_col='Filepaths',\n",
        "    y_col='Labels',\n",
        "    target_size=(224, 224),\n",
        "    batch_size=bs,\n",
        "    class_mode='categorical',\n",
        "    shuffle=False\n",
        ")\n",
        "\n",
        "test_generator = test_datagen.flow_from_dataframe(\n",
        "    dataframe=test_df,\n",
        "    x_col='Filepaths',\n",
        "    y_col='Labels',\n",
        "    target_size=(224, 224),\n",
        "    batch_size=bs,\n",
        "    class_mode='categorical',\n",
        "    shuffle=False\n",
        ")"
      ]
    },
    {
      "cell_type": "code",
      "execution_count": null,
      "metadata": {
        "id": "FXqGF6d4KKNr"
      },
      "outputs": [],
      "source": [
        "import random"
      ]
    },
    {
      "cell_type": "code",
      "execution_count": null,
      "metadata": {
        "id": "7RkdyBUTSboA"
      },
      "outputs": [],
      "source": [
        "# Funkcja do wizualizacji próbek danych\n",
        "def plot_samples(df, num_samples=6):\n",
        "    plt.figure(figsize=(15, 10))\n",
        "    for i in range(num_samples):\n",
        "        rand_idx = random.randint(0, len(df) - 1)\n",
        "        img_path = df.iloc[rand_idx]['Filepaths']\n",
        "        label = df.iloc[rand_idx]['Labels']\n",
        "\n",
        "        #czytaj i plotuj obraz\n",
        "        img = plt.imread(img_path)\n",
        "        plt.subplot(2, 3, i+1)\n",
        "        plt.imshow(img)\n",
        "        plt.title(f'Label: {label}')\n",
        "        plt.axis('off')\n",
        "    plt.tight_layout()\n",
        "    plt.show()\n",
        "\n",
        "# Wyświetlenie 6 losowych próbek\n",
        "plot_samples(train_df)"
      ]
    },
    {
      "cell_type": "code",
      "execution_count": null,
      "metadata": {
        "id": "oDSTSMdQSftQ"
      },
      "outputs": [],
      "source": [
        "from tensorflow.keras.metrics import Precision, Recall\n",
        "\n",
        "# Definicja metryki F1 jako funkcji\n",
        "class F1Score(tf.keras.metrics.Metric):\n",
        "    def __init__(self, name='f1_score', **kwargs):\n",
        "        super(F1Score, self).__init__(name=name, **kwargs)\n",
        "        self.precision = Precision()\n",
        "        self.recall = Recall()\n",
        "\n",
        "    def update_state(self, y_true, y_pred, sample_weight=None):\n",
        "        self.precision.update_state(y_true, y_pred, sample_weight)\n",
        "        self.recall.update_state(y_true, y_pred, sample_weight)\n",
        "\n",
        "    def result(self):\n",
        "        precision = self.precision.result()\n",
        "        recall = self.recall.result()\n",
        "        return 2 * ((precision * recall) / (precision + recall + tf.keras.backend.epsilon()))\n",
        "\n",
        "    def reset_states(self):\n",
        "        self.precision.reset_states()\n",
        "        self.recall.reset_states()"
      ]
    },
    {
      "cell_type": "code",
      "execution_count": null,
      "metadata": {
        "colab": {
          "base_uri": "https://localhost:8080/"
        },
        "id": "i0COgEdiuBFQ",
        "outputId": "34def0aa-170f-4ff8-ac5c-b598881efb59"
      },
      "outputs": [
        {
          "output_type": "stream",
          "name": "stdout",
          "text": [
            "Mounted at /content/drive\n"
          ]
        }
      ],
      "source": [
        "# biblioteka i montowanie dysku w colab\n",
        "\n",
        "from google.colab import drive\n",
        "drive.mount('/content/drive')\n"
      ]
    },
    {
      "cell_type": "code",
      "execution_count": null,
      "metadata": {
        "id": "BBKMoooeuPlH"
      },
      "outputs": [],
      "source": [
        "# Funkcja: zapisywanie metryk i wykresów modelu\n",
        "\n",
        "import os\n",
        "import json\n",
        "import matplotlib.pyplot as plt\n",
        "\n",
        "def save_metrics_and_plots(model_name, history, metrics_dict, save_dir):\n",
        "    \"\"\"\n",
        "    Zapisuje metryki i wykresy modelu do Google Drive.\n",
        "    \"\"\"\n",
        "    os.makedirs(save_dir, exist_ok=True)\n",
        "\n",
        "    # Zapis metryk jako JSON\n",
        "    with open(os.path.join(save_dir, f\"{model_name}_metrics.json\"), 'w') as f:\n",
        "        json.dump(metrics_dict, f, indent=4)\n",
        "\n",
        "\n"
      ]
    },
    {
      "cell_type": "code",
      "execution_count": null,
      "metadata": {
        "id": "PAj3juBnjGbX"
      },
      "outputs": [],
      "source": [
        "# Funkcja zapisu dla modeli z historia\n",
        "\n",
        "import os\n",
        "import json\n",
        "import matplotlib.pyplot as plt\n",
        "\n",
        "def save_metrics_and_plots1(model_name, history, metrics_dict, save_dir):\n",
        "    \"\"\"\n",
        "    Zapisuje metryki i wykresy modelu do Google Drive.\n",
        "    Tworzy wykresy z wszystkimi metrykami treningowymi oraz walidacyjnymi oddzielnie,\n",
        "    z pominięciem metryki 'loss'.\n",
        "    \"\"\"\n",
        "    os.makedirs(save_dir, exist_ok=True)\n",
        "\n",
        "    # Zapis metryk jako JSON\n",
        "    with open(os.path.join(save_dir, f\"{model_name}_metrics.json\"), 'w') as f:\n",
        "        json.dump(metrics_dict, f, indent=4)\n",
        "\n",
        "    if history:\n",
        "        train_metrics = {}\n",
        "        val_metrics = {}\n",
        "\n",
        "        for metric, values in history.history.items():\n",
        "            if metric.startswith(\"val_\"):\n",
        "                clean_metric = metric[4:]\n",
        "                if clean_metric != 'loss':\n",
        "                    val_metrics[clean_metric] = values\n",
        "            else:\n",
        "                if metric != 'loss':\n",
        "                    train_metrics[metric] = values\n",
        "\n",
        "        # Wykres metryk treningowych (bez 'loss')\n",
        "        if train_metrics:\n",
        "            plt.figure()\n",
        "            for metric, values in train_metrics.items():\n",
        "                plt.plot(range(1, len(values) + 1), values, label=metric)\n",
        "            plt.title(f'{model_name} - Training Metrics')\n",
        "            plt.xlabel('Epoch')\n",
        "            plt.ylabel('Value')\n",
        "            plt.legend()\n",
        "            plt.grid(True)\n",
        "            plt.savefig(os.path.join(save_dir, f\"{model_name}_training_metrics.png\"))\n",
        "            plt.close()\n",
        "\n",
        "        # Wykres metryk walidacyjnych (bez 'loss')\n",
        "        if val_metrics:\n",
        "            plt.figure()\n",
        "            for metric, values in val_metrics.items():\n",
        "                plt.plot(range(1, len(values) + 1), values, label=metric)\n",
        "            plt.title(f'{model_name} - Validation Metrics')\n",
        "            plt.xlabel('Epoch')\n",
        "            plt.ylabel('Value')\n",
        "            plt.legend()\n",
        "            plt.grid(True)\n",
        "            plt.savefig(os.path.join(save_dir, f\"{model_name}_validation_metrics.png\"))\n",
        "            plt.close()\n"
      ]
    },
    {
      "cell_type": "code",
      "execution_count": null,
      "metadata": {
        "colab": {
          "base_uri": "https://localhost:8080/"
        },
        "id": "La5ZUNsIOd2w",
        "outputId": "e6d32e2f-4f8c-462d-b0c9-bd4066c0ee49"
      },
      "outputs": [
        {
          "output_type": "stream",
          "name": "stdout",
          "text": [
            "Downloading data from https://storage.googleapis.com/tensorflow/keras-applications/xception/xception_weights_tf_dim_ordering_tf_kernels_notop.h5\n",
            "\u001b[1m83683744/83683744\u001b[0m \u001b[32m━━━━━━━━━━━━━━━━━━━━\u001b[0m\u001b[37m\u001b[0m \u001b[1m5s\u001b[0m 0us/step\n",
            "Epoch 1/5\n",
            "\u001b[1m10861/10861\u001b[0m \u001b[32m━━━━━━━━━━━━━━━━━━━━\u001b[0m\u001b[37m\u001b[0m \u001b[1m1157s\u001b[0m 102ms/step - accuracy: 0.6491 - f1_score: 0.6632 - loss: 1.4327 - precision: 0.7860 - recall: 0.5782 - val_accuracy: 0.9591 - val_f1_score: 0.9593 - val_loss: 0.3320 - val_precision: 0.9603 - val_recall: 0.9582\n",
            "Epoch 2/5\n",
            "\u001b[1m10861/10861\u001b[0m \u001b[32m━━━━━━━━━━━━━━━━━━━━\u001b[0m\u001b[37m\u001b[0m \u001b[1m959s\u001b[0m 88ms/step - accuracy: 0.9169 - f1_score: 0.9189 - loss: 0.3106 - precision: 0.9413 - recall: 0.8975 - val_accuracy: 0.9755 - val_f1_score: 0.9757 - val_loss: 0.1693 - val_precision: 0.9762 - val_recall: 0.9751\n",
            "Epoch 3/5\n",
            "\u001b[1m10861/10861\u001b[0m \u001b[32m━━━━━━━━━━━━━━━━━━━━\u001b[0m\u001b[37m\u001b[0m \u001b[1m943s\u001b[0m 87ms/step - accuracy: 0.9475 - f1_score: 0.9483 - loss: 0.2118 - precision: 0.9636 - recall: 0.9335 - val_accuracy: 0.9788 - val_f1_score: 0.9783 - val_loss: 0.1795 - val_precision: 0.9790 - val_recall: 0.9777\n",
            "Epoch 4/5\n",
            "\u001b[1m10861/10861\u001b[0m \u001b[32m━━━━━━━━━━━━━━━━━━━━\u001b[0m\u001b[37m\u001b[0m \u001b[1m930s\u001b[0m 86ms/step - accuracy: 0.9551 - f1_score: 0.9567 - loss: 0.1704 - precision: 0.9691 - recall: 0.9445 - val_accuracy: 0.9781 - val_f1_score: 0.9780 - val_loss: 0.4326 - val_precision: 0.9781 - val_recall: 0.9779\n",
            "Epoch 5/5\n",
            "\u001b[1m10861/10861\u001b[0m \u001b[32m━━━━━━━━━━━━━━━━━━━━\u001b[0m\u001b[37m\u001b[0m \u001b[1m914s\u001b[0m 84ms/step - accuracy: 0.9634 - f1_score: 0.9646 - loss: 0.1439 - precision: 0.9735 - recall: 0.9558 - val_accuracy: 0.9691 - val_f1_score: 0.9690 - val_loss: 0.1846 - val_precision: 0.9694 - val_recall: 0.9687\n"
          ]
        }
      ],
      "source": [
        "# Model 1: Transfer Learning - Xception\n",
        "base_model = tf.keras.applications.xception.Xception(weights='imagenet', include_top=False, input_shape=(224, 224, 3), pooling='max')\n",
        "\n",
        "model = Sequential([\n",
        "    base_model,  # Pretrenowany model\n",
        "    BatchNormalization(),  # Normalizacja wsadowa\n",
        "    Dense(256, activation='relu'),  # Warstwa gęsta\n",
        "    Dropout(0.5),  # Dropout dla regularizacji\n",
        "    Dense(38, activation='softmax')  # Warstwa wyjściowa (38 klas)\n",
        "])\n",
        "\n",
        "# Kompilacja modelu z dodatkowymi metrykami\n",
        "model.compile(\n",
        "    Adamax(learning_rate=0.001),\n",
        "    loss='categorical_crossentropy',\n",
        "    metrics=['accuracy', Precision(name='precision'), Recall(name='recall'), F1Score()]\n",
        ")\n",
        "# Trenowanie modelu\n",
        "start_time = time.time()\n",
        "xception_history = model.fit(\n",
        "    x=train_generator,\n",
        "    validation_data=valid_generator,\n",
        "    epochs=5,  # Liczba epok\n",
        "    verbose=1,\n",
        "    validation_steps=None,\n",
        "    shuffle=False\n",
        ")\n",
        "xception_time = time.time() - start_time\n"
      ]
    },
    {
      "cell_type": "code",
      "execution_count": null,
      "metadata": {
        "colab": {
          "base_uri": "https://localhost:8080/"
        },
        "id": "zB31oNIFaRcv",
        "outputId": "1198b48c-c70e-4379-a1ac-480cd649499f"
      },
      "outputs": [
        {
          "output_type": "stream",
          "name": "stdout",
          "text": [
            "\u001b[1m1358/1358\u001b[0m \u001b[32m━━━━━━━━━━━━━━━━━━━━\u001b[0m\u001b[37m\u001b[0m \u001b[1m33s\u001b[0m 24ms/step - accuracy: 0.9761 - f1_score: 0.9762 - loss: 0.1784 - precision: 0.9768 - recall: 0.9757\n",
            "\n",
            "[Xception Test Set Evaluation]\n",
            "accuracy: 0.9713\n",
            "precision: 0.9723\n",
            "recall: 0.9704\n",
            "f1_score: 0.9713\n",
            "training_time (s): 4911.3103\n"
          ]
        }
      ],
      "source": [
        "# Ewaluacja na zbiorze testowym\n",
        "test_loss, test_acc, test_precision, test_recall, test_f1 = model.evaluate(test_generator, verbose=1)\n",
        "\n",
        "# Zapisanie metryk testowych + czas\n",
        "xception_metrics = {\n",
        "    \"accuracy\": test_acc,\n",
        "    \"precision\": test_precision,\n",
        "    \"recall\": test_recall,\n",
        "    \"f1_score\": test_f1,\n",
        "    \"training_time (s)\": xception_time\n",
        "}\n",
        "\n",
        "# Wyświetlenie metryk testowych\n",
        "print(\"\\n[Xception Test Set Evaluation]\")\n",
        "for metric, value in xception_metrics.items():\n",
        "    print(f\"{metric}: {value:.4f}\")"
      ]
    },
    {
      "cell_type": "code",
      "execution_count": null,
      "metadata": {
        "id": "T1TWuRl9MAMc"
      },
      "outputs": [],
      "source": [
        "# Zapis historii trenowania oraz metryk na dysku\n",
        "\n",
        "save_metrics_and_plots1(\"Xception\", xception_history, xception_metrics, \"/content/drive/MyDrive/praca_magisterska/wyniki/Xception/\")"
      ]
    },
    {
      "cell_type": "code",
      "source": [
        "# Zapis modelu na dysku\n",
        "\n",
        "save_path = \"/content/drive/MyDrive/praca_magisterska/wyniki/Xception/model_xception.h5\"\n",
        "model.save(save_path)"
      ],
      "metadata": {
        "colab": {
          "base_uri": "https://localhost:8080/"
        },
        "id": "eOUNUx5zOCgD",
        "outputId": "b5e246c1-bf47-4a03-ecba-457797467c3c"
      },
      "execution_count": null,
      "outputs": [
        {
          "output_type": "stream",
          "name": "stderr",
          "text": [
            "WARNING:absl:You are saving your model as an HDF5 file via `model.save()` or `keras.saving.save_model(model)`. This file format is considered legacy. We recommend using instead the native Keras format, e.g. `model.save('my_model.keras')` or `keras.saving.save_model(model, 'my_model.keras')`. \n"
          ]
        }
      ]
    },
    {
      "cell_type": "code",
      "execution_count": null,
      "metadata": {
        "colab": {
          "base_uri": "https://localhost:8080/"
        },
        "id": "Cim0SDoOdrYx",
        "outputId": "c3b0ade9-1a69-46ae-fe52-056c2df508d8"
      },
      "outputs": [
        {
          "output_type": "stream",
          "name": "stderr",
          "text": [
            "WARNING:absl:You are saving your model as an HDF5 file via `model.save()` or `keras.saving.save_model(model)`. This file format is considered legacy. We recommend using instead the native Keras format, e.g. `model.save('my_model.keras')` or `keras.saving.save_model(model, 'my_model.keras')`. \n"
          ]
        }
      ],
      "source": [
        "# zapisanie modelu w pamieci colaba /content/\n",
        "\n",
        "#model.save(\"model_xception.h5\")\n"
      ]
    },
    {
      "cell_type": "code",
      "execution_count": null,
      "metadata": {
        "colab": {
          "base_uri": "https://localhost:8080/",
          "height": 34
        },
        "id": "fwWQPgH_dy8w",
        "outputId": "8f89e0bd-0cd5-4c92-d17c-8cb6d7d05eda"
      },
      "outputs": [
        {
          "output_type": "display_data",
          "data": {
            "text/plain": [
              "<IPython.core.display.Javascript object>"
            ],
            "application/javascript": [
              "\n",
              "    async function download(id, filename, size) {\n",
              "      if (!google.colab.kernel.accessAllowed) {\n",
              "        return;\n",
              "      }\n",
              "      const div = document.createElement('div');\n",
              "      const label = document.createElement('label');\n",
              "      label.textContent = `Downloading \"${filename}\": `;\n",
              "      div.appendChild(label);\n",
              "      const progress = document.createElement('progress');\n",
              "      progress.max = size;\n",
              "      div.appendChild(progress);\n",
              "      document.body.appendChild(div);\n",
              "\n",
              "      const buffers = [];\n",
              "      let downloaded = 0;\n",
              "\n",
              "      const channel = await google.colab.kernel.comms.open(id);\n",
              "      // Send a message to notify the kernel that we're ready.\n",
              "      channel.send({})\n",
              "\n",
              "      for await (const message of channel.messages) {\n",
              "        // Send a message to notify the kernel that we're ready.\n",
              "        channel.send({})\n",
              "        if (message.buffers) {\n",
              "          for (const buffer of message.buffers) {\n",
              "            buffers.push(buffer);\n",
              "            downloaded += buffer.byteLength;\n",
              "            progress.value = downloaded;\n",
              "          }\n",
              "        }\n",
              "      }\n",
              "      const blob = new Blob(buffers, {type: 'application/binary'});\n",
              "      const a = document.createElement('a');\n",
              "      a.href = window.URL.createObjectURL(blob);\n",
              "      a.download = filename;\n",
              "      div.appendChild(a);\n",
              "      a.click();\n",
              "      div.remove();\n",
              "    }\n",
              "  "
            ]
          },
          "metadata": {}
        },
        {
          "output_type": "display_data",
          "data": {
            "text/plain": [
              "<IPython.core.display.Javascript object>"
            ],
            "application/javascript": [
              "download(\"download_6bd2a4f9-a507-4cbb-ad58-8d3ba5da9229\", \"model_xception.h5\", 256853248)"
            ]
          },
          "metadata": {}
        }
      ],
      "source": [
        "# pobranie modelu z pamieci colaba\n",
        "\n",
        "#from google.colab import files\n",
        "#files.download(\"/content/model_xception.h5\")"
      ]
    },
    {
      "cell_type": "code",
      "execution_count": null,
      "metadata": {
        "id": "_p_NZqu2KhJH",
        "colab": {
          "base_uri": "https://localhost:8080/"
        },
        "outputId": "38eed114-bfd3-4da9-d173-48a992db6a8e"
      },
      "outputs": [
        {
          "output_type": "stream",
          "name": "stdout",
          "text": [
            "Downloading data from https://storage.googleapis.com/tensorflow/keras-applications/resnet/resnet50_weights_tf_dim_ordering_tf_kernels_notop.h5\n",
            "\u001b[1m94765736/94765736\u001b[0m \u001b[32m━━━━━━━━━━━━━━━━━━━━\u001b[0m\u001b[37m\u001b[0m \u001b[1m3s\u001b[0m 0us/step\n",
            "Epoch 1/9\n",
            "\u001b[1m10861/10861\u001b[0m \u001b[32m━━━━━━━━━━━━━━━━━━━━\u001b[0m\u001b[37m\u001b[0m \u001b[1m1101s\u001b[0m 95ms/step - accuracy: 0.2115 - f1_score: 0.1503 - loss: 3.5117 - precision: 0.4027 - recall: 0.0930 - val_accuracy: 0.5223 - val_f1_score: 0.5118 - val_loss: 3.3414 - val_precision: 0.6083 - val_recall: 0.4418\n",
            "Epoch 2/9\n",
            "\u001b[1m10861/10861\u001b[0m \u001b[32m━━━━━━━━━━━━━━━━━━━━\u001b[0m\u001b[37m\u001b[0m \u001b[1m1066s\u001b[0m 94ms/step - accuracy: 0.4629 - f1_score: 0.4355 - loss: 1.9345 - precision: 0.7279 - recall: 0.3112 - val_accuracy: 0.4816 - val_f1_score: 0.4781 - val_loss: 16.1795 - val_precision: 0.5094 - val_recall: 0.4505\n",
            "Epoch 3/9\n",
            "\u001b[1m10861/10861\u001b[0m \u001b[32m━━━━━━━━━━━━━━━━━━━━\u001b[0m\u001b[37m\u001b[0m \u001b[1m1018s\u001b[0m 94ms/step - accuracy: 0.5830 - f1_score: 0.5719 - loss: 1.4442 - precision: 0.7783 - recall: 0.4523 - val_accuracy: 0.6473 - val_f1_score: 0.6515 - val_loss: 2.4606 - val_precision: 0.6788 - val_recall: 0.6263\n",
            "Epoch 4/9\n",
            "\u001b[1m10861/10861\u001b[0m \u001b[32m━━━━━━━━━━━━━━━━━━━━\u001b[0m\u001b[37m\u001b[0m \u001b[1m1013s\u001b[0m 93ms/step - accuracy: 0.6568 - f1_score: 0.6523 - loss: 1.1582 - precision: 0.8026 - recall: 0.5495 - val_accuracy: 0.7587 - val_f1_score: 0.7573 - val_loss: 1.8061 - val_precision: 0.7920 - val_recall: 0.7256\n",
            "Epoch 5/9\n",
            "\u001b[1m10861/10861\u001b[0m \u001b[32m━━━━━━━━━━━━━━━━━━━━\u001b[0m\u001b[37m\u001b[0m \u001b[1m1015s\u001b[0m 93ms/step - accuracy: 0.6967 - f1_score: 0.6979 - loss: 1.0043 - precision: 0.8191 - recall: 0.6081 - val_accuracy: 0.7858 - val_f1_score: 0.7880 - val_loss: 1.4964 - val_precision: 0.7962 - val_recall: 0.7799\n",
            "Epoch 6/9\n",
            "\u001b[1m10861/10861\u001b[0m \u001b[32m━━━━━━━━━━━━━━━━━━━━\u001b[0m\u001b[37m\u001b[0m \u001b[1m1007s\u001b[0m 93ms/step - accuracy: 0.7268 - f1_score: 0.7282 - loss: 0.9327 - precision: 0.8333 - recall: 0.6468 - val_accuracy: 0.8287 - val_f1_score: 0.8293 - val_loss: 1.2693 - val_precision: 0.8356 - val_recall: 0.8230\n",
            "Epoch 7/9\n",
            "\u001b[1m10861/10861\u001b[0m \u001b[32m━━━━━━━━━━━━━━━━━━━━\u001b[0m\u001b[37m\u001b[0m \u001b[1m1017s\u001b[0m 94ms/step - accuracy: 0.7517 - f1_score: 0.7545 - loss: 0.8291 - precision: 0.8439 - recall: 0.6823 - val_accuracy: 0.3013 - val_f1_score: 0.3018 - val_loss: 26.8487 - val_precision: 0.3028 - val_recall: 0.3009\n",
            "Epoch 8/9\n",
            "\u001b[1m10861/10861\u001b[0m \u001b[32m━━━━━━━━━━━━━━━━━━━━\u001b[0m\u001b[37m\u001b[0m \u001b[1m1054s\u001b[0m 95ms/step - accuracy: 0.7752 - f1_score: 0.7763 - loss: 0.7581 - precision: 0.8506 - recall: 0.7139 - val_accuracy: 0.8703 - val_f1_score: 0.8716 - val_loss: 1.0133 - val_precision: 0.8777 - val_recall: 0.8656\n",
            "Epoch 9/9\n",
            "\u001b[1m10861/10861\u001b[0m \u001b[32m━━━━━━━━━━━━━━━━━━━━\u001b[0m\u001b[37m\u001b[0m \u001b[1m1043s\u001b[0m 96ms/step - accuracy: 0.7858 - f1_score: 0.7905 - loss: 0.7187 - precision: 0.8624 - recall: 0.7298 - val_accuracy: 0.8061 - val_f1_score: 0.8064 - val_loss: 1.7271 - val_precision: 0.8120 - val_recall: 0.8009\n"
          ]
        }
      ],
      "source": [
        "# Model 2: Transfer Learning - ResNet50\n",
        "base_resnet = ResNet50(weights='imagenet', include_top=False, input_shape=(224, 224, 3), pooling='avg')\n",
        "\n",
        "resnet_model = Sequential([\n",
        "    base_resnet,\n",
        "    BatchNormalization(),\n",
        "    Dense(256, activation='relu'),\n",
        "    Dropout(0.5),\n",
        "    Dense(38, activation='softmax')\n",
        "])\n",
        "\n",
        "resnet_model.compile(optimizer=Adam(learning_rate=0.0005),\n",
        "                     loss='categorical_crossentropy',\n",
        "                     metrics=['accuracy', Precision(name='precision'), Recall(name='recall'), F1Score()])\n",
        "\n",
        "start_time = time.time()\n",
        "resnet_history = resnet_model.fit(\n",
        "    train_generator,\n",
        "    validation_data=valid_generator,\n",
        "    # na 7 malo bylo\n",
        "    epochs=9,\n",
        "    verbose=1\n",
        ")\n",
        "resnet_time = time.time() - start_time"
      ]
    },
    {
      "cell_type": "code",
      "execution_count": null,
      "metadata": {
        "id": "D97O4xSXeWWW",
        "colab": {
          "base_uri": "https://localhost:8080/"
        },
        "outputId": "f56d46b0-63d7-4fdc-ca86-853a9c239b29"
      },
      "outputs": [
        {
          "output_type": "stream",
          "name": "stdout",
          "text": [
            "\u001b[1m1358/1358\u001b[0m \u001b[32m━━━━━━━━━━━━━━━━━━━━\u001b[0m\u001b[37m\u001b[0m \u001b[1m30s\u001b[0m 22ms/step - accuracy: 0.7961 - f1_score: 0.7970 - loss: 1.7005 - precision: 0.8043 - recall: 0.7899\n",
            "\n",
            "[ResNet Test Set Evaluation]\n",
            "accuracy: 0.8022\n",
            "precision: 0.8112\n",
            "recall: 0.7975\n",
            "f1_score: 0.8043\n",
            "training_time (s): 9332.2378\n"
          ]
        }
      ],
      "source": [
        "# Ewaluacja i metryki\n",
        "test_loss, test_acc, test_precision, test_recall, test_f1 = resnet_model.evaluate(test_generator)\n",
        "\n",
        "\n",
        "# zapisanie metryk ewaluacji + czas\n",
        "resnet_metrics = {\n",
        "    \"accuracy\": test_acc,\n",
        "    \"precision\": test_precision,\n",
        "    \"recall\": test_recall,\n",
        "    \"f1_score\": test_f1,\n",
        "    \"training_time (s)\": resnet_time\n",
        "}\n",
        "\n",
        "# Wyświetlenie metryk testowych\n",
        "print(\"\\n[ResNet Test Set Evaluation]\")\n",
        "for metric, value in resnet_metrics.items():\n",
        "    print(f\"{metric}: {value:.4f}\")"
      ]
    },
    {
      "cell_type": "code",
      "execution_count": null,
      "metadata": {
        "id": "rhPMeWqAMVhc"
      },
      "outputs": [],
      "source": [
        "# Zapis historii trenowania oraz metryk na dysku\n",
        "\n",
        "save_metrics_and_plots1(\"ResNet\", resnet_history, resnet_metrics, \"/content/drive/MyDrive/praca_magisterska/wyniki/ResNet/\")"
      ]
    },
    {
      "cell_type": "code",
      "source": [
        "# Zapis modelu na dysku\n",
        "\n",
        "save_path = \"/content/drive/MyDrive/praca_magisterska/wyniki/ResNet/model_resnet.h5\"\n",
        "resnet_model.save(save_path)"
      ],
      "metadata": {
        "id": "LtAOtvUXTC5S",
        "colab": {
          "base_uri": "https://localhost:8080/"
        },
        "outputId": "d75cbf74-bf81-4efb-8f52-5c7d8c59ecee"
      },
      "execution_count": null,
      "outputs": [
        {
          "output_type": "stream",
          "name": "stderr",
          "text": [
            "WARNING:absl:You are saving your model as an HDF5 file via `model.save()` or `keras.saving.save_model(model)`. This file format is considered legacy. We recommend using instead the native Keras format, e.g. `model.save('my_model.keras')` or `keras.saving.save_model(model, 'my_model.keras')`. \n"
          ]
        }
      ]
    },
    {
      "cell_type": "code",
      "execution_count": null,
      "metadata": {
        "id": "aQMYYlTSOf0Q",
        "colab": {
          "base_uri": "https://localhost:8080/"
        },
        "outputId": "f9304204-c209-4c63-cfc7-e3022a728272"
      },
      "outputs": [
        {
          "output_type": "stream",
          "name": "stdout",
          "text": [
            "Epoch 1/9\n",
            "\u001b[1m10861/10861\u001b[0m \u001b[32m━━━━━━━━━━━━━━━━━━━━\u001b[0m\u001b[37m\u001b[0m \u001b[1m879s\u001b[0m 80ms/step - accuracy: 0.2042 - f1_score: 0.1008 - loss: 3.0228 - precision: 0.6237 - recall: 0.0559 - val_accuracy: 0.4635 - val_f1_score: 0.4351 - val_loss: 1.8382 - val_precision: 0.7176 - val_recall: 0.3122\n",
            "Epoch 2/9\n",
            "\u001b[1m10861/10861\u001b[0m \u001b[32m━━━━━━━━━━━━━━━━━━━━\u001b[0m\u001b[37m\u001b[0m \u001b[1m626s\u001b[0m 58ms/step - accuracy: 0.4157 - f1_score: 0.3551 - loss: 2.0416 - precision: 0.7143 - recall: 0.2364 - val_accuracy: 0.6013 - val_f1_score: 0.5612 - val_loss: 1.4172 - val_precision: 0.8157 - val_recall: 0.4278\n",
            "Epoch 3/9\n",
            "\u001b[1m10861/10861\u001b[0m \u001b[32m━━━━━━━━━━━━━━━━━━━━\u001b[0m\u001b[37m\u001b[0m \u001b[1m615s\u001b[0m 57ms/step - accuracy: 0.5263 - f1_score: 0.4924 - loss: 1.6517 - precision: 0.7698 - recall: 0.3621 - val_accuracy: 0.6061 - val_f1_score: 0.5956 - val_loss: 1.4252 - val_precision: 0.7507 - val_recall: 0.4936\n",
            "Epoch 4/9\n",
            "\u001b[1m10861/10861\u001b[0m \u001b[32m━━━━━━━━━━━━━━━━━━━━\u001b[0m\u001b[37m\u001b[0m \u001b[1m634s\u001b[0m 58ms/step - accuracy: 0.5809 - f1_score: 0.5513 - loss: 1.4748 - precision: 0.7791 - recall: 0.4266 - val_accuracy: 0.6390 - val_f1_score: 0.6189 - val_loss: 1.2781 - val_precision: 0.7618 - val_recall: 0.5212\n",
            "Epoch 5/9\n",
            "\u001b[1m10861/10861\u001b[0m \u001b[32m━━━━━━━━━━━━━━━━━━━━\u001b[0m\u001b[37m\u001b[0m \u001b[1m637s\u001b[0m 59ms/step - accuracy: 0.5970 - f1_score: 0.5778 - loss: 1.4134 - precision: 0.7831 - recall: 0.4578 - val_accuracy: 0.6715 - val_f1_score: 0.6697 - val_loss: 1.1944 - val_precision: 0.7992 - val_recall: 0.5762\n",
            "Epoch 6/9\n",
            "\u001b[1m10861/10861\u001b[0m \u001b[32m━━━━━━━━━━━━━━━━━━━━\u001b[0m\u001b[37m\u001b[0m \u001b[1m621s\u001b[0m 57ms/step - accuracy: 0.6140 - f1_score: 0.5952 - loss: 1.3535 - precision: 0.7877 - recall: 0.4783 - val_accuracy: 0.7035 - val_f1_score: 0.6978 - val_loss: 1.0575 - val_precision: 0.8198 - val_recall: 0.6074\n",
            "Epoch 7/9\n",
            "\u001b[1m10861/10861\u001b[0m \u001b[32m━━━━━━━━━━━━━━━━━━━━\u001b[0m\u001b[37m\u001b[0m \u001b[1m618s\u001b[0m 57ms/step - accuracy: 0.6176 - f1_score: 0.6020 - loss: 1.3444 - precision: 0.7884 - recall: 0.4869 - val_accuracy: 0.7011 - val_f1_score: 0.6828 - val_loss: 1.1000 - val_precision: 0.8284 - val_recall: 0.5807\n",
            "Epoch 8/9\n",
            "\u001b[1m10861/10861\u001b[0m \u001b[32m━━━━━━━━━━━━━━━━━━━━\u001b[0m\u001b[37m\u001b[0m \u001b[1m624s\u001b[0m 57ms/step - accuracy: 0.6181 - f1_score: 0.6018 - loss: 1.3369 - precision: 0.7878 - recall: 0.4869 - val_accuracy: 0.6724 - val_f1_score: 0.6518 - val_loss: 1.1940 - val_precision: 0.8091 - val_recall: 0.5457\n",
            "Epoch 9/9\n",
            "\u001b[1m10861/10861\u001b[0m \u001b[32m━━━━━━━━━━━━━━━━━━━━\u001b[0m\u001b[37m\u001b[0m \u001b[1m630s\u001b[0m 58ms/step - accuracy: 0.6214 - f1_score: 0.6056 - loss: 1.3305 - precision: 0.7880 - recall: 0.4918 - val_accuracy: 0.6689 - val_f1_score: 0.6549 - val_loss: 1.3020 - val_precision: 0.7715 - val_recall: 0.5689\n"
          ]
        }
      ],
      "source": [
        "# Model 3: Custom CNN\n",
        "cnn_model = Sequential([\n",
        "    Conv2D(32, (3, 3), activation='relu', input_shape=(224, 224, 3)),\n",
        "    MaxPooling2D(pool_size=(2, 2)),\n",
        "    Conv2D(64, (3, 3), activation='relu'),\n",
        "    MaxPooling2D(pool_size=(2, 2)),\n",
        "    Flatten(),\n",
        "    Dense(128, activation='relu'),\n",
        "    Dropout(0.5),\n",
        "    Dense(38, activation='softmax')\n",
        "])\n",
        "\n",
        "cnn_model.compile(optimizer='adam',\n",
        "                  loss='categorical_crossentropy',\n",
        "                  metrics=['accuracy', Precision(name='precision'), Recall(name='recall'), F1Score()])\n",
        "\n",
        "start_time = time.time()\n",
        "cnn_history = cnn_model.fit(\n",
        "    train_generator,\n",
        "    validation_data=valid_generator,\n",
        "    # na 7 dalej rosło\n",
        "    epochs=9,\n",
        "    verbose=1\n",
        ")\n",
        "cnn_time = time.time() - start_time\n"
      ]
    },
    {
      "cell_type": "code",
      "execution_count": null,
      "metadata": {
        "id": "H-REHn-qMvMi",
        "colab": {
          "base_uri": "https://localhost:8080/"
        },
        "outputId": "ce904693-890c-4787-aa23-c756b051e2fc"
      },
      "outputs": [
        {
          "output_type": "stream",
          "name": "stdout",
          "text": [
            "\u001b[1m1358/1358\u001b[0m \u001b[32m━━━━━━━━━━━━━━━━━━━━\u001b[0m\u001b[37m\u001b[0m \u001b[1m38s\u001b[0m 28ms/step - accuracy: 0.6842 - f1_score: 0.6676 - loss: 1.2368 - precision: 0.7816 - recall: 0.5828\n",
            "\n",
            "[CNN Test set Evaluation]\n",
            "accuracy: 0.6780\n",
            "precision: 0.7792\n",
            "recall: 0.5750\n",
            "f1_score: 0.6617\n",
            "training_time (s): 5937.0181\n"
          ]
        }
      ],
      "source": [
        "# Ewaluacja modelu na zbiorze testowym\n",
        "test_loss, test_accuracy, test_precision, test_recall, test_f1 = cnn_model.evaluate(test_generator, verbose=1)\n",
        "\n",
        "# Zapis metryk z ewaluacji + czas\n",
        "cnn_metrics = {\n",
        "    \"accuracy\": test_accuracy,\n",
        "    \"precision\": test_precision,\n",
        "    \"recall\": test_recall,\n",
        "    \"f1_score\": test_f1,\n",
        "    \"training_time (s)\": cnn_time\n",
        "}\n",
        "\n",
        "# (opcjonalnie) wypisz metryki\n",
        "print(\"\\n[CNN Test set Evaluation]\")\n",
        "for metric, value in cnn_metrics.items():\n",
        "    print(f\"{metric}: {value:.4f}\")"
      ]
    },
    {
      "cell_type": "code",
      "execution_count": null,
      "metadata": {
        "id": "vL0NBxoUMvAi"
      },
      "outputs": [],
      "source": [
        "# Zapis historii trenowania oraz metryk na dysku\n",
        "\n",
        "save_metrics_and_plots1(\"CNN\", cnn_history, cnn_metrics, \"/content/drive/MyDrive/praca_magisterska/wyniki/CNN/\")"
      ]
    },
    {
      "cell_type": "code",
      "source": [
        "# zapisanie modelu na dysku\n",
        "\n",
        "save_path = \"/content/drive/MyDrive/praca_magisterska/wyniki/CNN/model_cnn.h5\"\n",
        "cnn_model.save(save_path)"
      ],
      "metadata": {
        "id": "ubrS3oCqTovS",
        "colab": {
          "base_uri": "https://localhost:8080/"
        },
        "outputId": "3975e8c1-3c19-47bc-a2f7-b9f5f738d0d3"
      },
      "execution_count": null,
      "outputs": [
        {
          "output_type": "stream",
          "name": "stderr",
          "text": [
            "WARNING:absl:You are saving your model as an HDF5 file via `model.save()` or `keras.saving.save_model(model)`. This file format is considered legacy. We recommend using instead the native Keras format, e.g. `model.save('my_model.keras')` or `keras.saving.save_model(model, 'my_model.keras')`. \n"
          ]
        }
      ]
    },
    {
      "cell_type": "code",
      "execution_count": null,
      "metadata": {
        "id": "bdd0zjaHMjBa"
      },
      "outputs": [],
      "source": [
        "# Przygotowanie danych do ML\n",
        "\n",
        "def prepare_data_for_ml(df, size=(96, 96)):\n",
        "    X = []\n",
        "    y = []\n",
        "    for i, row in df.iterrows():\n",
        "        img = cv2.imread(row['Filepaths'])\n",
        "        img = cv2.resize(img, size)\n",
        "        img = img.astype(np.float32) / 255.0\n",
        "        X.append(img.flatten())\n",
        "        y.append(row['Labels'])\n",
        "    return np.array(X), np.array(y)\n",
        "\n",
        "X_train, y_train = prepare_data_for_ml(train_df)\n",
        "X_valid, y_valid = prepare_data_for_ml(valid_df)"
      ]
    },
    {
      "cell_type": "code",
      "source": [
        "import joblib"
      ],
      "metadata": {
        "id": "Grk_NaCm-wg-"
      },
      "execution_count": null,
      "outputs": []
    },
    {
      "cell_type": "code",
      "execution_count": null,
      "metadata": {
        "colab": {
          "base_uri": "https://localhost:8080/"
        },
        "id": "GlOg9Q_hOptJ",
        "outputId": "b3d85b8d-84a7-49c2-dbcd-440fccb5d6f6"
      },
      "outputs": [
        {
          "output_type": "stream",
          "name": "stdout",
          "text": [
            "\n",
            "[KNN Test Set Evaluation for k = 1]\n",
            "accuracy: 0.5519\n",
            "precision: 0.5803\n",
            "recall: 0.4307\n",
            "f1_score: 0.4388\n",
            "training_time (s): 0.3849\n",
            "\n",
            "[KNN Test Set Evaluation for k = 3]\n",
            "accuracy: 0.5339\n",
            "precision: 0.6076\n",
            "recall: 0.4064\n",
            "f1_score: 0.4085\n",
            "training_time (s): 0.3562\n",
            "\n",
            "[KNN Test Set Evaluation for k = 5]\n",
            "accuracy: 0.5361\n",
            "precision: 0.6138\n",
            "recall: 0.4048\n",
            "f1_score: 0.4059\n",
            "training_time (s): 0.4987\n",
            "\n",
            "[KNN Test Set Evaluation for k = 7]\n",
            "accuracy: 0.5311\n",
            "precision: 0.6167\n",
            "recall: 0.3970\n",
            "f1_score: 0.4000\n",
            "training_time (s): 0.4535\n",
            "\n",
            "[KNN Test Set Evaluation for k = 9]\n",
            "accuracy: 0.5287\n",
            "precision: 0.6006\n",
            "recall: 0.3888\n",
            "f1_score: 0.3944\n",
            "training_time (s): 0.4261\n",
            "\n",
            "[KNN Test Set Evaluation for k = 12]\n",
            "accuracy: 0.5241\n",
            "precision: 0.6008\n",
            "recall: 0.3825\n",
            "f1_score: 0.3894\n",
            "training_time (s): 0.3195\n"
          ]
        }
      ],
      "source": [
        "\n",
        "\n",
        "\n",
        "\n",
        "# Model 4: KNN\n",
        "\n",
        "\n",
        "# Zakodowanie etykiet\n",
        "encoder = LabelEncoder()\n",
        "y_train_enc = encoder.fit_transform(y_train)\n",
        "y_valid_enc = encoder.transform(y_valid)\n",
        "\n",
        "# Katalog zapisu\n",
        "save_dir = \"/content/drive/MyDrive/praca_magisterska/wyniki/KNN/\"\n",
        "os.makedirs(save_dir, exist_ok=True)\n",
        "\n",
        "# Lista wartości n_neighbors do przetestowania\n",
        "neighbor_values = [1, 3, 5, 7, 9, 12]\n",
        "\n",
        "# Słownik do przechowywania metryk\n",
        "all_metrics = {\n",
        "    \"k\": [],\n",
        "    \"accuracy\": [],\n",
        "    \"precision\": [],\n",
        "    \"recall\": [],\n",
        "    \"f1_score\": [],\n",
        "    \"training_time (s)\": []\n",
        "}\n",
        "\n",
        "# Pętla testująca różne wartości k\n",
        "for k in neighbor_values:\n",
        "    knn = KNeighborsClassifier(n_neighbors=k)\n",
        "\n",
        "    start_time = time.time()\n",
        "    knn.fit(X_train, y_train_enc)\n",
        "    training_time = time.time() - start_time\n",
        "\n",
        "    # Ścieżka zapisu modelu\n",
        "    #model_path = os.path.join(save_dir, f\"KNN_k{k}.joblib\")\n",
        "    #joblib.dump(knn, model_path)\n",
        "\n",
        "\n",
        "    y_pred = knn.predict(X_valid)\n",
        "\n",
        "    # Oblicz metryki\n",
        "    acc = accuracy_score(y_valid_enc, y_pred)\n",
        "    prec = precision_score(y_valid_enc, y_pred, average='macro')\n",
        "    rec = recall_score(y_valid_enc, y_pred, average='macro')\n",
        "    f1 = f1_score(y_valid_enc, y_pred, average='macro')\n",
        "\n",
        "    knn_metrics = {\n",
        "        \"accuracy\": acc,\n",
        "        \"precision\": prec,\n",
        "        \"recall\": rec,\n",
        "        \"f1_score\": f1,\n",
        "        \"training_time (s)\": training_time\n",
        "    }\n",
        "\n",
        "    # Zapisz metryki do zbiorczego słownika\n",
        "    all_metrics[\"k\"].append(k)\n",
        "    all_metrics[\"accuracy\"].append(acc)\n",
        "    all_metrics[\"precision\"].append(prec)\n",
        "    all_metrics[\"recall\"].append(rec)\n",
        "    all_metrics[\"f1_score\"].append(f1)\n",
        "    all_metrics[\"training_time (s)\"].append(training_time)\n",
        "\n",
        "    # Zapisz metryki pojedynczego modelu\n",
        "    model_name = f\"KNN_k{k}\"\n",
        "    save_metrics_and_plots(model_name, None, knn_metrics, save_dir)\n",
        "\n",
        "    # Wypisz metryki\n",
        "    print(f\"\\n[KNN Test Set Evaluation for k = {k}]\")\n",
        "    for metric, value in knn_metrics.items():\n",
        "        print(f\"{metric}: {value:.4f}\")\n",
        "\n",
        "    # # Tworzenie confusion matrix i jej zapis\n",
        "    # cm = confusion_matrix(y_valid_enc, y_pred)\n",
        "    # class_names = encoder.classes_\n",
        "\n",
        "    # plt.figure(figsize=(6, 5))\n",
        "    # sns.heatmap(cm, annot=True, fmt=\"d\", cmap=\"Blues\", xticklabels=class_names, yticklabels=class_names)\n",
        "    # plt.title(f\"KNN (k={k}) - Confusion Matrix\")\n",
        "    # plt.xlabel(\"Predicted Label\")\n",
        "    # plt.ylabel(\"True Label\")\n",
        "    # plt.tight_layout()\n",
        "    # cm_path = os.path.join(save_dir, f\"KNN_k{k}_confusion_matrix.png\")\n",
        "    # plt.savefig(cm_path)\n",
        "    # plt.close()\n",
        "\n",
        "# Rysuj wykres zmian metryk (bez loss)\n",
        "plt.figure(figsize=(10, 6))\n",
        "for metric in [\"accuracy\", \"precision\", \"recall\", \"f1_score\"]:\n",
        "    plt.plot(all_metrics[\"k\"], all_metrics[metric], marker='o', label=metric)\n",
        "\n",
        "plt.title(\"KNN: Zmiana metryk względem liczby sąsiadów (k)\")\n",
        "plt.xlabel(\"Liczba sąsiadów (k)\")\n",
        "plt.ylabel(\"Wartość metryki\")\n",
        "plt.xticks(neighbor_values)\n",
        "plt.grid(True)\n",
        "plt.legend()\n",
        "plt.tight_layout()\n",
        "plt.savefig(os.path.join(save_dir, \"KNN_metrics_vs_k.png\"))\n",
        "plt.close()"
      ]
    },
    {
      "cell_type": "code",
      "source": [
        "# Wczytanie u uzycie modelu w formacie joblib\n",
        "\n",
        "# import joblib\n",
        "\n",
        "# model_path = \"/content/drive/MyDrive/praca_magisterska/wyniki/KNN/KNN_k5.joblib\"\n",
        "# knn_model = joblib.load(model_path)\n",
        "\n",
        "# # Użycie:\n",
        "# y_pred = knn_model.predict(X_valid)"
      ],
      "metadata": {
        "id": "oyZZqptkUBU8"
      },
      "execution_count": null,
      "outputs": []
    },
    {
      "cell_type": "markdown",
      "metadata": {
        "id": "X-y4gUJxU395"
      },
      "source": [
        "# KNN juz zbiera dane dla kazdej wartosci k_neighbor w petli"
      ]
    },
    {
      "cell_type": "code",
      "execution_count": null,
      "metadata": {
        "id": "GiwjSL-LMvx1"
      },
      "outputs": [],
      "source": [
        " # Model 5: SVM\n",
        "\n",
        "# Zakodowanie etykiet\n",
        "encoder = LabelEncoder()\n",
        "y_train_enc = encoder.fit_transform(y_train)\n",
        "y_valid_enc = encoder.transform(y_valid)\n",
        "\n",
        "# SVM\n",
        "svm = SVC(kernel='rbf')\n",
        "start_time = time.time()\n",
        "svm.fit(X_train, y_train_enc)\n",
        "svm_time = time.time() - start_time\n",
        "\n",
        "y_pred_svm = svm.predict(X_valid)\n",
        "\n",
        "# słownik metryk\n",
        "svm_metrics = {\n",
        "    \"accuracy\": accuracy_score(y_valid_enc, y_pred_svm),\n",
        "    \"precision\": precision_score(y_valid_enc, y_pred_svm, average='macro'),\n",
        "    \"recall\": recall_score(y_valid_enc, y_pred_svm, average='macro'),\n",
        "    \"f1_score\": f1_score(y_valid_enc, y_pred_svm, average='macro'),\n",
        "    \"training_time (s)\": svm_time\n",
        "}"
      ]
    },
    {
      "cell_type": "code",
      "source": [
        "# Zapis modelu\n",
        "joblib.dump(svm, os.path.join(save_path, \"svm_model.joblib\"))"
      ],
      "metadata": {
        "id": "xbdNjM8fW-W6"
      },
      "execution_count": null,
      "outputs": []
    },
    {
      "cell_type": "code",
      "execution_count": null,
      "metadata": {
        "id": "UJW0xNebPlmJ",
        "colab": {
          "base_uri": "https://localhost:8080/"
        },
        "outputId": "d16fef97-0d48-4dad-b58f-826a3705de4c"
      },
      "outputs": [
        {
          "output_type": "stream",
          "name": "stdout",
          "text": [
            "\n",
            "[SVM Test set Evaluation]\n",
            "accuracy: 0.7647\n",
            "precision: 0.7134\n",
            "recall: 0.6414\n",
            "f1_score: 0.6538\n",
            "training_time (s): 5810.8977\n"
          ]
        }
      ],
      "source": [
        "# (opcjonalnie) wypisz metryki\n",
        "print(\"\\n[SVM Test set Evaluation]\")\n",
        "for metric, value in svm_metrics.items():\n",
        "    print(f\"{metric}: {value:.4f}\")"
      ]
    },
    {
      "cell_type": "code",
      "execution_count": null,
      "metadata": {
        "id": "o8d-3nIhz5gD"
      },
      "outputs": [],
      "source": [
        "# Zapis historii trenowania oraz metryk na dysku\n",
        "\n",
        "save_metrics_and_plots1(\"SVM\", None, svm_metrics, \"/content/drive/MyDrive/praca_magisterska/wyniki/SVM/\")"
      ]
    },
    {
      "cell_type": "code",
      "source": [
        "# jesli nie przy KNN\n",
        "\n",
        "import joblib"
      ],
      "metadata": {
        "id": "MtU4PCysUx_y"
      },
      "execution_count": null,
      "outputs": []
    },
    {
      "cell_type": "code",
      "execution_count": null,
      "metadata": {
        "id": "s12D3WanKeQg",
        "colab": {
          "base_uri": "https://localhost:8080/"
        },
        "outputId": "b3fc9b4f-6041-46e8-91c2-9a9d85d25247"
      },
      "outputs": [
        {
          "output_type": "stream",
          "name": "stdout",
          "text": [
            "\n",
            "[RandomForest Test Set Evaluation for n_estimators = 25]\n",
            "accuracy: 0.6018\n",
            "precision: 0.5452\n",
            "recall: 0.4390\n",
            "f1_score: 0.4499\n",
            "training_time (s): 222.0742\n",
            "\n",
            "[RandomForest Test Set Evaluation for n_estimators = 50]\n",
            "accuracy: 0.6354\n",
            "precision: 0.5926\n",
            "recall: 0.4700\n",
            "f1_score: 0.4871\n",
            "training_time (s): 437.7977\n",
            "\n",
            "[RandomForest Test Set Evaluation for n_estimators = 100]\n",
            "accuracy: 0.6597\n",
            "precision: 0.6564\n",
            "recall: 0.4955\n",
            "f1_score: 0.5172\n",
            "training_time (s): 873.7965\n",
            "\n",
            "[RandomForest Test Set Evaluation for n_estimators = 200]\n",
            "accuracy: 0.6790\n",
            "precision: 0.6717\n",
            "recall: 0.5121\n",
            "f1_score: 0.5353\n",
            "training_time (s): 1731.6439\n",
            "\n",
            "[RandomForest Test Set Evaluation for n_estimators = 300]\n",
            "accuracy: 0.6779\n",
            "precision: 0.6561\n",
            "recall: 0.5106\n",
            "f1_score: 0.5343\n",
            "training_time (s): 2583.7051\n",
            "\n",
            "[RandomForest Test Set Evaluation for n_estimators = 400]\n",
            "accuracy: 0.6807\n",
            "precision: 0.6588\n",
            "recall: 0.5137\n",
            "f1_score: 0.5371\n",
            "training_time (s): 3425.4104\n",
            "\n",
            "[RandomForest Test Set Evaluation for n_estimators = 500]\n",
            "accuracy: 0.6843\n",
            "precision: 0.6713\n",
            "recall: 0.5158\n",
            "f1_score: 0.5385\n",
            "training_time (s): 4255.2413\n"
          ]
        }
      ],
      "source": [
        "# Model 6: Random Forest\n",
        "\n",
        "# Zakodowanie etykiet\n",
        "encoder = LabelEncoder()\n",
        "y_train_enc = encoder.fit_transform(y_train)\n",
        "y_valid_enc = encoder.transform(y_valid)\n",
        "\n",
        "# Katalog zapisu\n",
        "save_dir = \"/content/drive/MyDrive/praca_magisterska/wyniki/RandomForest/\"\n",
        "os.makedirs(save_dir, exist_ok=True)\n",
        "\n",
        "# Lista wartości n_estimators do przetestowania\n",
        "n_estimators_values = [25, 50, 100, 200, 300, 400, 500]\n",
        "\n",
        "# Słownik do przechowywania metryk\n",
        "all_metrics = {\n",
        "    \"n\": [],\n",
        "    \"accuracy\": [],\n",
        "    \"precision\": [],\n",
        "    \"recall\": [],\n",
        "    \"f1_score\": [],\n",
        "    \"training_time (s)\": []\n",
        "}\n",
        "\n",
        "# Pętla testująca różne wartości n_estimators\n",
        "for n in n_estimators_values:\n",
        "    rf_model = RandomForestClassifier(n_estimators=n, random_state=42)\n",
        "\n",
        "    start_time = time.time()\n",
        "    rf_model.fit(X_train, y_train_enc)\n",
        "    training_time = time.time() - start_time\n",
        "\n",
        "    # Ścieżka zapisu modelu\n",
        "    #model_path = os.path.join(save_dir, f\"RF_n{n}.joblib\")\n",
        "    #joblib.dump(rf_model, model_path)\n",
        "\n",
        "    y_pred = rf_model.predict(X_valid)\n",
        "\n",
        "    # Oblicz metryki\n",
        "    acc = accuracy_score(y_valid_enc, y_pred)\n",
        "    prec = precision_score(y_valid_enc, y_pred, average='macro')\n",
        "    rec = recall_score(y_valid_enc, y_pred, average='macro')\n",
        "    f1 = f1_score(y_valid_enc, y_pred, average='macro')\n",
        "\n",
        "    rf_metrics = {\n",
        "        \"accuracy\": acc,\n",
        "        \"precision\": prec,\n",
        "        \"recall\": rec,\n",
        "        \"f1_score\": f1,\n",
        "        \"training_time (s)\": training_time\n",
        "    }\n",
        "\n",
        "    # Zapisz metryki do zbiorczego słownika\n",
        "    all_metrics[\"n\"].append(n)\n",
        "    all_metrics[\"accuracy\"].append(acc)\n",
        "    all_metrics[\"precision\"].append(prec)\n",
        "    all_metrics[\"recall\"].append(rec)\n",
        "    all_metrics[\"f1_score\"].append(f1)\n",
        "    all_metrics[\"training_time (s)\"].append(training_time)\n",
        "\n",
        "    # Zapisz metryki pojedynczego modelu\n",
        "    model_name = f\"RF_n{n}\"\n",
        "    save_metrics_and_plots(model_name, None, rf_metrics, save_dir)\n",
        "\n",
        "    # Wypisz metryki\n",
        "    print(f\"\\n[RandomForest Test Set Evaluation for n_estimators = {n}]\")\n",
        "    for metric, value in rf_metrics.items():\n",
        "        print(f\"{metric}: {value:.4f}\")\n",
        "\n",
        "    # # Tworzenie confusion matrix i jej zapis\n",
        "    # cm = confusion_matrix(y_valid_enc, y_pred)\n",
        "    # class_names = encoder.classes_\n",
        "\n",
        "    # plt.figure(figsize=(6, 5))\n",
        "    # sns.heatmap(cm, annot=True, fmt=\"d\", cmap=\"Greens\", xticklabels=class_names, yticklabels=class_names)\n",
        "    # plt.title(f\"RandomForest (n={n}) - Confusion Matrix\")\n",
        "    # plt.xlabel(\"Predicted Label\")\n",
        "    # plt.ylabel(\"True Label\")\n",
        "    # plt.tight_layout()\n",
        "    # cm_path = os.path.join(save_dir, f\"RF_n{n}_confusion_matrix.png\")\n",
        "    # plt.savefig(cm_path)\n",
        "    # plt.close()\n",
        "\n",
        "# Rysuj wykres zmian metryk (bez loss)\n",
        "plt.figure(figsize=(10, 6))\n",
        "for metric in [\"accuracy\", \"precision\", \"recall\", \"f1_score\"]:\n",
        "    plt.plot(all_metrics[\"n\"], all_metrics[metric], marker='o', label=metric)\n",
        "\n",
        "plt.title(\"Random Forest: Zmiana metryk względem liczby drzew (n_estimators)\")\n",
        "plt.xlabel(\"Liczba drzew (n_estimators)\")\n",
        "plt.ylabel(\"Wartość metryki\")\n",
        "plt.xticks(n_estimators_values)\n",
        "plt.grid(True)\n",
        "plt.legend()\n",
        "plt.tight_layout()\n",
        "plt.savefig(os.path.join(save_dir, \"RF_metrics_vs_n_estimators.png\"))\n",
        "plt.close()\n"
      ]
    },
    {
      "cell_type": "code",
      "execution_count": null,
      "metadata": {
        "id": "3-qGffdiuZTP"
      },
      "outputs": [],
      "source": [
        "# Funkcja: agregacja wyników wszystkich modeli i rysowanie porównań\n",
        "\n",
        "import glob\n",
        "import pandas as pd\n",
        "import os\n",
        "import json\n",
        "import matplotlib.pyplot as plt\n",
        "\n",
        "def load_and_plot_all_results(results_dir, output_dir):\n",
        "\n",
        "    os.makedirs(output_dir, exist_ok=True)\n",
        "    results = []\n",
        "\n",
        "    for json_file in glob.glob(os.path.join(results_dir, '*_metrics.json')):\n",
        "        model_name = os.path.basename(json_file).replace('_metrics.json', '')\n",
        "        with open(json_file, 'r') as f:\n",
        "            metrics = json.load(f)\n",
        "        metrics['model'] = model_name\n",
        "        results.append(metrics)\n",
        "\n",
        "    df = pd.DataFrame(results)\n",
        "\n",
        "    # Wymagana kolejność modeli\n",
        "    desired_order = ['Xception', 'ResNet', 'CNN', 'KNN_k1', 'SVM', 'RF_n500']\n",
        "    df = df.set_index('model').loc[desired_order].reset_index()\n",
        "\n",
        "    # Wykres metryk\n",
        "    metrics = ['accuracy', 'precision', 'recall', 'f1_score']\n",
        "    models = df['model']\n",
        "    x = range(len(models))\n",
        "    bar_width = 0.2\n",
        "    offset = [-1.5, -0.5, 0.5, 1.5]\n",
        "\n",
        "    plt.figure(figsize=(10, 6))\n",
        "    for i, metric in enumerate(metrics):\n",
        "        plt.bar([pos + bar_width * offset[i] for pos in x],\n",
        "                df[metric],\n",
        "                width=bar_width,\n",
        "                label=metric)\n",
        "\n",
        "    plt.xticks(x, models, rotation=45, ha='right')\n",
        "    plt.ylabel('Wartość metryki')\n",
        "    plt.title('Porównanie metryk modeli')\n",
        "    plt.legend()\n",
        "    plt.tight_layout()\n",
        "    plt.savefig(os.path.join(output_dir, \"porownanie_metryk_modeli.png\"))\n",
        "    plt.show()\n",
        "\n",
        "    # Wykres czasów trenowania\n",
        "    plt.figure(figsize=(8, 5))\n",
        "    plt.bar(df['model'], df['training_time (s)'], color='coral')\n",
        "    plt.ylabel('Czas trenowania (s)')\n",
        "    plt.title('Czas trenowania modeli')\n",
        "    plt.xticks(rotation=45, ha='right')\n",
        "    plt.tight_layout()\n",
        "    plt.savefig(os.path.join(output_dir, \"porownanie_czasow_trenowania_modeli.png\"))\n",
        "    plt.show()\n",
        "\n"
      ]
    },
    {
      "cell_type": "code",
      "execution_count": null,
      "metadata": {
        "colab": {
          "base_uri": "https://localhost:8080/",
          "height": 1000
        },
        "id": "cpx8lMKZrx0t",
        "outputId": "2573ef97-2984-40d2-8666-41b28d0dfd87"
      },
      "outputs": [
        {
          "output_type": "display_data",
          "data": {
            "text/plain": [
              "<Figure size 1000x600 with 1 Axes>"
            ],
            "image/png": "[encoded data removed]"
          },
          "metadata": {}
        },
        {
          "output_type": "display_data",
          "data": {
            "text/plain": [
              "<Figure size 800x500 with 1 Axes>"
            ],
            "image/png": "[encoded data removed]"
          },
          "metadata": {}
        }
      ],
      "source": [
        "# uzycie funkcji do agregacji wynikow, najpierw trzeba przeniesc metryki wybranych modeli do odpowiedniego katalogu\n",
        "\n",
        "load_and_plot_all_results(\"/content/drive/MyDrive/praca_magisterska/wyniki/\",\n",
        "                          \"/content/drive/MyDrive/praca_magisterska/wyniki/porownania/\")"
      ]
    },
    {
      "cell_type": "code",
      "execution_count": null,
      "metadata": {
        "id": "WJrENf2Vr0e8"
      },
      "outputs": [],
      "source": [
        "# Funkcja: agregacja wyników dla roznych parametrow KNN\n",
        "\n",
        "import glob\n",
        "import pandas as pd\n",
        "\n",
        "def load_and_plot_all_results_KNN(results_dir, output_dir):\n",
        "\n",
        "    # Ładuje metryki z plików JSON, tworzy wykres porównawczy i zapisuje go.\n",
        "\n",
        "    os.makedirs(output_dir, exist_ok=True)\n",
        "    results = []\n",
        "\n",
        "    for json_file in glob.glob(os.path.join(results_dir, '*_metrics.json')):\n",
        "        model_name = os.path.basename(json_file).replace('_metrics.json', '')\n",
        "        with open(json_file, 'r') as f:\n",
        "            metrics = json.load(f)\n",
        "        metrics['model'] = model_name\n",
        "        results.append(metrics)\n",
        "\n",
        "    df = pd.DataFrame(results)\n",
        "\n",
        "    #print(df)\n",
        "\n",
        "    \"\"\"\n",
        "    Tworzy wykres słupkowy porównujący accuracy, precision, recall i f1_score\n",
        "    dla różnych modeli.\n",
        "\n",
        "    Parameters:\n",
        "    - df: pandas DataFrame zawierający metryki i kolumnę 'model'\n",
        "    - output_path: jeśli podano, zapisuje wykres do pliku\n",
        "    \"\"\"\n",
        "    output_path='porownanie_metryk.png'\n",
        "\n",
        "    metrics = ['accuracy', 'precision', 'recall', 'f1_score']\n",
        "    models = df['model']\n",
        "    values = df[metrics]\n",
        "\n",
        "    x = range(len(models))\n",
        "    bar_width = 0.2\n",
        "    offset = [-1.5, -0.5, 0.5, 1.5]  # przesunięcia słupków względem pozycji modelu\n",
        "\n",
        "    plt.figure(figsize=(10, 6))\n",
        "\n",
        "    for i, metric in enumerate(metrics):\n",
        "        plt.bar([pos + bar_width * offset[i] for pos in x],\n",
        "                df[metric],\n",
        "                width=bar_width,\n",
        "                label=metric)\n",
        "\n",
        "    plt.xticks(x, models, rotation=45, ha='right')\n",
        "    plt.ylabel('Wartość metryki')\n",
        "    plt.title('Porównanie metryk modelu KNN dla różnych wartości n_neighbors')\n",
        "    plt.legend()\n",
        "    plt.tight_layout()\n",
        "    plt.savefig(os.path.join(output_dir, f\"porowonanie metryk modelu KNN dla różnych wartości n_neighbors.png\"))\n",
        "    plt.show()\n",
        "\n",
        "    # czasy trenowania\n",
        "\n",
        "    plt.figure(figsize=(8, 5))\n",
        "    plt.bar(df['model'], df['training_time (s)'], color='coral')\n",
        "    plt.ylabel('Czas trenowania (s)')\n",
        "    plt.title('Czas trenowania modelu KNN dla różnych wartości n_neighbors')\n",
        "    plt.xticks(rotation=45, ha='right')\n",
        "    plt.tight_layout()\n",
        "    plt.savefig(os.path.join(output_dir, f\"porowonanie czasów trenowania modelu KNN dla różnych wartości n_neighbors.png\"))\n",
        "    plt.show()\n"
      ]
    },
    {
      "cell_type": "code",
      "source": [
        "# Funkcja: agregacja wyników dla roznych parametrow KNN wykres LINIOWY\n",
        "\n",
        "import glob\n",
        "import pandas as pd\n",
        "\n",
        "def load_and_plot_all_results_KNN_linear(results_dir, output_dir):\n",
        "    os.makedirs(output_dir, exist_ok=True)\n",
        "    results = []\n",
        "\n",
        "    for json_file in glob.glob(os.path.join(results_dir, '*_metrics.json')):\n",
        "        model_name = os.path.basename(json_file).replace('_metrics.json', '')\n",
        "        with open(json_file, 'r') as f:\n",
        "            metrics = json.load(f)\n",
        "        metrics['model'] = model_name\n",
        "        results.append(metrics)\n",
        "\n",
        "    df = pd.DataFrame(results)\n",
        "\n",
        "    # Posortuj po nazwie modelu, np. KNN_k=3, KNN_k=5, ...\n",
        "    df = df.sort_values(by='model')\n",
        "\n",
        "    # Wykres metryk - LINIowy\n",
        "    metrics = ['accuracy', 'precision', 'recall', 'f1_score']\n",
        "    x = df['model']\n",
        "\n",
        "    plt.figure(figsize=(10, 6))\n",
        "\n",
        "    for metric in metrics:\n",
        "        plt.plot(x, df[metric], marker='o', label=metric)\n",
        "\n",
        "    plt.xticks(rotation=45, ha='right')\n",
        "    plt.ylabel('Wartość metryki')\n",
        "    plt.title('Porównanie metryk modelu KNN dla różnych wartości n_neighbors')\n",
        "    plt.legend()\n",
        "    plt.tight_layout()\n",
        "    plt.savefig(os.path.join(output_dir, \"porownanie_metryk_liniowy.png\"))\n",
        "    plt.show()\n",
        "\n",
        "    # Wykres czasu trenowania - LINIowy\n",
        "    plt.figure(figsize=(8, 5))\n",
        "    plt.plot(x, df['training_time (s)'], marker='o', color='coral')\n",
        "    plt.ylabel('Czas trenowania (s)')\n",
        "    plt.title('Czas trenowania modelu KNN dla różnych wartości n_neighbors')\n",
        "    plt.xticks(rotation=45, ha='right')\n",
        "    plt.tight_layout()\n",
        "    plt.savefig(os.path.join(output_dir, \"porownanie_czasu_trenowania_liniowy.png\"))\n",
        "    plt.show()\n"
      ],
      "metadata": {
        "id": "DEviIS9GlhwD"
      },
      "execution_count": null,
      "outputs": []
    },
    {
      "cell_type": "code",
      "execution_count": null,
      "metadata": {
        "colab": {
          "base_uri": "https://localhost:8080/",
          "height": 1000
        },
        "id": "14Yuy1cUwKfX",
        "outputId": "45227bae-93f8-4357-ae18-b98f9b4f18f7"
      },
      "outputs": [
        {
          "output_type": "display_data",
          "data": {
            "text/plain": [
              "<Figure size 1000x600 with 1 Axes>"
            ],
            "image/png": "[encoded data removed]"
          },
          "metadata": {}
        },
        {
          "output_type": "display_data",
          "data": {
            "text/plain": [
              "<Figure size 800x500 with 1 Axes>"
            ],
            "image/png": "[encoded data removed]"
          },
          "metadata": {}
        }
      ],
      "source": [
        "# uzycie funkcji do agregacji wynikow dla modelu KNN z roznymi wartosciami n_neighbors\n",
        "\n",
        "#load_and_plot_all_results_KNN(\"/content/drive/MyDrive/praca_magisterska/wyniki/KNN/\",\n",
        "#                          \"/content/drive/MyDrive/praca_magisterska/wyniki/KNN\")\n",
        "\n",
        "load_and_plot_all_results_KNN_linear(\"/content/drive/MyDrive/praca_magisterska/wyniki/KNN/\",\n",
        "                          \"/content/drive/MyDrive/praca_magisterska/wyniki/KNN\")"
      ]
    },
    {
      "cell_type": "code",
      "execution_count": null,
      "metadata": {
        "id": "yLsu8gMKOrkh"
      },
      "outputs": [],
      "source": [
        "# Zbieranie metryk końcowych\n",
        "metrics_summary = {\n",
        "    'Xception': xception_metrics,\n",
        "    'ResNet50': resnet_metrics,\n",
        "    'CNN': cnn_metrics,\n",
        "    'KNN': knn_metrics,\n",
        "    'SVM': svm_metrics,\n",
        "    'RF': rf_metrics\n",
        "}\n"
      ]
    },
    {
      "cell_type": "code",
      "execution_count": null,
      "metadata": {
        "id": "64x8egltOumw"
      },
      "outputs": [],
      "source": [
        "# Tworzenie DataFrame i wykresu\n",
        "metrics_df = pd.DataFrame(metrics_summary).T\n",
        "\n",
        "# Wykres metryk (bez czasu trenowania)\n",
        "plt.figure(figsize=(12, 8))\n",
        "metrics_df.drop(columns=[\"training_time (s)\"]).plot(kind='bar')\n",
        "plt.title('Porównanie metryk modeli')\n",
        "plt.ylabel('Wartość metryki')\n",
        "plt.xticks(rotation=0)\n",
        "plt.grid(True)\n",
        "plt.tight_layout()\n",
        "plt.show()\n",
        "\n"
      ]
    },
    {
      "cell_type": "code",
      "execution_count": null,
      "metadata": {
        "id": "oZ5uwZ0vwhe4"
      },
      "outputs": [],
      "source": [
        "print(metrics_df.drop(columns=[\"training_time (s)\"]))"
      ]
    },
    {
      "cell_type": "code",
      "execution_count": null,
      "metadata": {
        "id": "ltHmSdJDxim7"
      },
      "outputs": [],
      "source": [
        "print(metrics_df)"
      ]
    },
    {
      "cell_type": "code",
      "execution_count": null,
      "metadata": {
        "id": "UsWEvmtHjt7L"
      },
      "outputs": [],
      "source": [
        "# Wykres czasu trenowania\n",
        "plt.figure(figsize=(8, 5))\n",
        "metrics_df[\"training_time (s)\"].plot(kind='bar', color='orange')\n",
        "plt.title('Czas trenowania modeli (w sekundach)')\n",
        "plt.ylabel('Czas [s]')\n",
        "plt.xticks(rotation=0)\n",
        "plt.grid(True)\n",
        "plt.tight_layout()\n",
        "plt.show()"
      ]
    }
  ],
  "metadata": {
    "colab": {
      "provenance": []
    },
    "kernelspec": {
      "display_name": "Python 3",
      "name": "python3"
    },
    "language_info": {
      "name": "python"
    }
  },
  "nbformat": 4,
  "nbformat_minor": 0
}